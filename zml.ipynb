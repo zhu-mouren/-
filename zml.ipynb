{
 "cells": [
  {
   "cell_type": "code",
   "execution_count": 1,
   "id": "bbe05567",
   "metadata": {},
   "outputs": [],
   "source": [
    "import time\n",
    "import glob\n",
    "\n",
    "\n",
    "import numpy as np\n",
    "import matplotlib.pyplot as plt\n",
    "import scipy.signal\n",
    "import tensorflow as tf\n",
    "from tensorflow import keras\n",
    "from keras.models import Sequential\n",
    "from keras.models import load_model\n",
    "from keras.callbacks import ModelCheckpoint\n",
    "from tensorflow.keras.layers import (\n",
    "    Input,\n",
    "    Conv1D,\n",
    "    MaxPooling1D,\n",
    "    Dropout,\n",
    "    BatchNormalization,\n",
    "    Activation,\n",
    "    Add,\n",
    "    Dense,\n",
    "    GlobalAveragePooling1D,\n",
    ")\n",
    "import keras.backend as K\n",
    "# from easydl import clear_output\n",
    "from sklearn.utils import shuffle\n",
    "\n",
    "# from get_representations import *\n"
   ]
  },
  {
   "cell_type": "code",
   "execution_count": 11,
   "id": "899bc6df",
   "metadata": {},
   "outputs": [],
   "source": [
    "# indexes = [i for i in range(26,44)]\n",
    "\n",
    "def load_data(tp:str):\n",
    "    \"\"\"\n",
    "    tp: test or train\n",
    "    return: array (n,m)\n",
    "    \"\"\"\n",
    "    ECG = []\n",
    "    for x in glob.glob('/data/Exercise/sub_*.npz'):\n",
    "        print(x)\n",
    "        data = np.load(x)\n",
    "        data = data['arr_0']\n",
    "        data = tf.transpose(data,(0,2,1))\n",
    "        for i in range(int(data.shape[0]/2)):\n",
    "            ECG.append(np.concatenate([data[2*i][0],data[2*i+1][0]]))\n",
    "    print(\"finish loading data\")\n",
    "    return np.array(ECG)\n",
    "\n",
    "def load_label(tp:str):\n",
    "    \"\"\"\n",
    "    tp: test or train\n",
    "    return: array (n,m)\n",
    "    \"\"\"\n",
    "    BP = []\n",
    "    for x in glob.glob('/data/Exercise/sub_*.npz'):\n",
    "        data = np.load(x)\n",
    "        data = data['arr_1']\n",
    "        for i in range(int(data.shape[0]/2)):\n",
    "            BP.append(np.concatenate([data[2*i],data[2*i+1]]))\n",
    "    print(\"finish loading label\")\n",
    "    return np.array(BP)\n"
   ]
  },
  {
   "cell_type": "code",
   "execution_count": 12,
   "id": "0d59a8a4",
   "metadata": {},
   "outputs": [],
   "source": [
    "class LossHistory(keras.callbacks.Callback):\n",
    "    # 函数开始时创建盛放loss与acc的容器\n",
    "    def on_train_begin(self, logs={}):\n",
    "        self.losses = {'batch': [], 'epoch': []}\n",
    "        self.accuracy = {'batch': [], 'epoch': []}\n",
    "        self.val_loss = {'batch': [], 'epoch': []}\n",
    "        self.val_acc = {'batch': [], 'epoch': []}\n",
    "\n",
    "    # 按照batch来进行追加数据\n",
    "#     def on_batch_end(self, batch, logs={}):\n",
    "#         # 每一个batch完成后向容器里面追加loss，acc\n",
    "#         self.losses['batch'].append(logs.get('loss'))\n",
    "#         self.accuracy['batch'].append(logs.get('acc'))\n",
    "#         self.val_loss['batch'].append(logs.get('val_loss'))\n",
    "#         self.val_acc['batch'].append(logs.get('val_acc'))\n",
    "#         # 每五秒按照当前容器里的值来绘图\n",
    "#         if int(time.time()) % 5 == 0:\n",
    "#             self.draw_p(self.losses['batch'], 'loss', 'train_batch')\n",
    "#             self.draw_p(self.accuracy['batch'], 'acc', 'train_batch')\n",
    "#             self.draw_p(self.val_loss['batch'], 'loss', 'val_batch')\n",
    "#             self.draw_p(self.val_acc['batch'], 'acc', 'val_batch')\n",
    "\n",
    "#     def on_epoch_end(self, batch, logs={}):\n",
    "#         # 每一个epoch完成后向容器里面追加loss，acc\n",
    "#         self.losses['epoch'].append(logs.get('loss'))\n",
    "#         self.accuracy['epoch'].append(logs.get('acc'))\n",
    "#         self.val_loss['epoch'].append(logs.get('val_loss'))\n",
    "#         self.val_acc['epoch'].append(logs.get('val_acc'))\n",
    "#         # 每五秒按照当前容器里的值来绘图\n",
    "#         if int(time.time()) % 5 == 0:\n",
    "#             self.draw_p(self.losses['epoch'], 'loss', 'train_epoch')\n",
    "#             self.draw_p(self.accuracy['epoch'], 'acc', 'train_epoch')\n",
    "#             self.draw_p(self.val_loss['epoch'], 'loss', 'val_epoch')\n",
    "#             self.draw_p(self.val_acc['epoch'], 'acc', 'val_epoch')\n",
    "\n",
    "    # 绘图，这里把每一种曲线都单独绘图，若想把各种曲线绘制在一张图上的话可修改此方法\n",
    "    def draw_p(self, lists, label, type):\n",
    "        plt.figure()\n",
    "        plt.plot(range(len(lists)), lists, 'r', label=label)\n",
    "        plt.ylabel(label)\n",
    "        plt.xlabel(type)\n",
    "        plt.legend(loc=\"upper right\")\n",
    "        plt.savefig(type + '_' + label + '.jpg')\n",
    "\n",
    "    # 由于这里的绘图设置的是5s绘制一次，当训练结束后得到的图可能不是一个完整的训练过程（最后一次绘图结束，有训练了0-5秒的时间）\n",
    "    # 所以这里的方法会在整个训练结束以后调用\n",
    "    def end_draw(self):\n",
    "        self.draw_p(self.losses['batch'], 'loss', 'train_batch')\n",
    "        self.draw_p(self.accuracy['batch'], 'acc', 'train_batch')\n",
    "        self.draw_p(self.val_loss['batch'], 'loss', 'val_batch')\n",
    "        self.draw_p(self.val_acc['batch'], 'acc', 'val_batch')\n",
    "        self.draw_p(self.losses['epoch'], 'loss', 'train_epoch')\n",
    "        self.draw_p(self.accuracy['epoch'], 'acc', 'train_epoch')\n",
    "        self.draw_p(self.val_loss['epoch'], 'loss', 'val_epoch')\n",
    "        self.draw_p(self.val_acc['epoch'], 'acc', 'val_epoch')\n",
    "\n",
    "\n",
    "logs_loss = LossHistory()\n",
    "\n"
   ]
  },
  {
   "cell_type": "code",
   "execution_count": 13,
   "id": "3baf001a",
   "metadata": {},
   "outputs": [],
   "source": [
    "def normalization(data):\n",
    "    \"\"\"\n",
    "    only for data\n",
    "    data: 2d array \n",
    "    \"\"\"\n",
    "    print(data.shape)\n",
    "    assert len(data.shape)==2\n",
    "    \n",
    "    for index,line in enumerate(data):\n",
    "        max_ = line.max()\n",
    "        min_ = line.min()\n",
    "        data[index] = (line-min_)/(max_-min_)\n",
    "    return data\n",
    "\n",
    "def innormal(data):\n",
    "    \"\"\"\n",
    "    反向归一化  209.506413847982 27.653349926908\n",
    "    \"\"\"\n",
    "    up = 209.506413847982\n",
    "    down = 27.653349926908\n",
    "    differ = up-down\n",
    "    return differ*data + down\n",
    "\n",
    "def normal(label):\n",
    "    \"\"\"\n",
    "    only for label !!!\n",
    "    only for label !!!\n",
    "    only for label !!!\n",
    "    \"\"\"\n",
    "    up = label.max()\n",
    "    down = label.min()\n",
    "    differ = up-down\n",
    "    print(up, down)\n",
    "    return (label-down)/differ"
   ]
  },
  {
   "cell_type": "code",
   "execution_count": 37,
   "id": "c340d1e6",
   "metadata": {},
   "outputs": [
    {
     "name": "stdout",
     "output_type": "stream",
     "text": [
      "/data/Exercise/sub_26.npz\n",
      "/data/Exercise/sub_27.npz\n",
      "/data/Exercise/sub_28.npz\n",
      "/data/Exercise/sub_31.npz\n",
      "/data/Exercise/sub_29.npz\n",
      "/data/Exercise/sub_30.npz\n",
      "/data/Exercise/sub_32.npz\n",
      "/data/Exercise/sub_33.npz\n",
      "/data/Exercise/sub_36.npz\n",
      "/data/Exercise/sub_37.npz\n",
      "/data/Exercise/sub_38.npz\n",
      "/data/Exercise/sub_42.npz\n",
      "/data/Exercise/sub_35.npz\n",
      "/data/Exercise/sub_34.npz\n",
      "/data/Exercise/sub_39.npz\n",
      "/data/Exercise/sub_40.npz\n",
      "/data/Exercise/sub_41.npz\n",
      "/data/Exercise/sub_43.npz\n",
      "finish loading data\n",
      "finish loading label\n"
     ]
    },
    {
     "data": {
      "text/plain": [
       "(11659, 10000)"
      ]
     },
     "execution_count": 37,
     "metadata": {},
     "output_type": "execute_result"
    }
   ],
   "source": [
    "# 读取数据 防误触注释\n",
    "train_data = load_data('train')\n",
    "train_label = load_label('train') # (11659, 4)\n",
    "\n",
    "# test_data = load_data('val')\n",
    "# test_label = load_label('val') # (1244, 4)\n",
    "\n",
    "# clear_output()\n",
    "train_data.shape"
   ]
  },
  {
   "cell_type": "code",
   "execution_count": 21,
   "id": "c627a473",
   "metadata": {},
   "outputs": [],
   "source": [
    "# 拼接在一起的数据是不连续的，这是因为师兄的数据分割方法造成的\n",
    "# plt.scatter([i for i in range(100)],train_data[1][4950:4950+100])"
   ]
  },
  {
   "cell_type": "code",
   "execution_count": 22,
   "id": "41eb8f46",
   "metadata": {},
   "outputs": [
    {
     "data": {
      "text/plain": [
       "-0.0038566923948343"
      ]
     },
     "execution_count": 22,
     "metadata": {},
     "output_type": "execute_result"
    }
   ],
   "source": [
    "# 看验证集大小\n",
    "train_data.min()"
   ]
  },
  {
   "cell_type": "code",
   "execution_count": 38,
   "id": "dca7426c",
   "metadata": {},
   "outputs": [],
   "source": [
    "# 两份数据拼在一起，统一降采样，归一化\n",
    "# data = np.concatenate([train_data,test_data])\n",
    "# label = np.concatenate([train_label,test_label])\n",
    "data = train_data\n",
    "label = train_label"
   ]
  },
  {
   "cell_type": "code",
   "execution_count": 39,
   "id": "6d2fda28",
   "metadata": {},
   "outputs": [
    {
     "data": {
      "text/plain": [
       "[<matplotlib.lines.Line2D at 0x7f436fdf1a30>]"
      ]
     },
     "execution_count": 39,
     "metadata": {},
     "output_type": "execute_result"
    },
    {
     "data": {
      "image/png": "[encoded data removed]",
      "text/plain": [
       "<Figure size 640x480 with 1 Axes>"
      ]
     },
     "metadata": {},
     "output_type": "display_data"
    }
   ],
   "source": [
    "# plt.plot(label[11659:])\n",
    "# plt.plot(data[11698])\n",
    "plt.plot(data[11609])"
   ]
  },
  {
   "cell_type": "code",
   "execution_count": 55,
   "id": "75f66f57",
   "metadata": {},
   "outputs": [
    {
     "name": "stdout",
     "output_type": "stream",
     "text": [
      "finish resample\n",
      "(11659, 4096)\n",
      "(11659, 4)\n"
     ]
    }
   ],
   "source": [
    "# 重采样\n",
    "data_ = np.zeros((data.shape[0],4096))\n",
    "for i in range (data.shape[0]):\n",
    "    data_[i] = scipy.signal.resample_poly(data[i],4096,10000)\n",
    "print(\"finish resample\")\n",
    "\n",
    "# 检查重采样后的维度\n",
    "print(data_.shape)\n",
    "print(label.shape)\n",
    "# 209.506413847982 27.653349926908 血压最大值和最小值"
   ]
  },
  {
   "cell_type": "code",
   "execution_count": 56,
   "id": "8f70ec88",
   "metadata": {},
   "outputs": [],
   "source": [
    "# 归一化\n",
    "# data_ = normalization(data_)\n",
    "# label = normal(label)"
   ]
  },
  {
   "cell_type": "code",
   "execution_count": 57,
   "id": "18e91489",
   "metadata": {},
   "outputs": [],
   "source": [
    "# shuffle不能完全打乱val和train 因为个体ecg特征会利于估计val中的血压\n",
    "data_[:11659], label[:11659] = shuffle(data_[:11659], label[:11659], random_state=1)\n",
    "# data_[11659:], label[11659:] = shuffle(data_[11659:], label[11659:], random_state=2)\n",
    "# data_[:10000], label[:10000] = shuffle(data_[:10000], label[:10000], random_state=1)\n",
    "# data_[10000:], label[10000:] = shuffle(data_[10000:], label[10000:], random_state=2)\n",
    "# data_, label = shuffle(data_, label, random_state=2)"
   ]
  },
  {
   "cell_type": "code",
   "execution_count": 58,
   "id": "a2dc2d95",
   "metadata": {},
   "outputs": [
    {
     "data": {
      "text/plain": [
       "<matplotlib.legend.Legend at 0x7f436fdb7a60>"
      ]
     },
     "execution_count": 58,
     "metadata": {},
     "output_type": "execute_result"
    },
    {
     "data": {
      "image/png": "[encoded data removed]",
      "text/plain": [
       "<Figure size 640x480 with 1 Axes>"
      ]
     },
     "metadata": {},
     "output_type": "display_data"
    }
   ],
   "source": [
    "# 验证shuffle成效\n",
    "plt.plot(label, label='label') \n",
    "plt.legend()"
   ]
  },
  {
   "cell_type": "code",
   "execution_count": 59,
   "id": "9307135b",
   "metadata": {},
   "outputs": [],
   "source": [
    "np.save('/data/Exercise/experiment/test/train_data.npy',data_[:10000])\n",
    "np.save('/data/Exercise/experiment/test/test_data.npy',data_[10000:])\n",
    "np.save('/data/Exercise/experiment/test/train_label.npy',label[:10000])\n",
    "np.save('/data/Exercise/experiment/test/test_label.npy',label[10000:])"
   ]
  },
  {
   "cell_type": "markdown",
   "id": "7620c624",
   "metadata": {},
   "source": [
    "# 训练\n",
    "\n",
    "\n",
    "\n"
   ]
  },
  {
   "cell_type": "code",
   "execution_count": 60,
   "id": "711e2a9d",
   "metadata": {},
   "outputs": [
    {
     "name": "stdout",
     "output_type": "stream",
     "text": [
      "(10000, 4096)\n",
      "(10000, 4)\n",
      "(1659, 4096)\n",
      "(1659, 4)\n",
      "[121.21392651  78.44141374 120.28279465  78.63804107]\n",
      "209.506413847982\n",
      "27.653349926908\n"
     ]
    }
   ],
   "source": [
    "train_data = np.load('/data/Exercise/experiment/test/train_data.npy')\n",
    "test_data = np.load('/data/Exercise/experiment/test/test_data.npy')\n",
    "\n",
    "train_label = np.load('/data/Exercise/experiment/test/train_label.npy')\n",
    "test_label = np.load('/data/Exercise/experiment/test/test_label.npy')\n",
    "# train_label = np.load('/home/ubuntu/data/Exercise/normalization/train_label.npy')\n",
    "# test_label = np.load('/home/ubuntu/data/Exercise/normalization/test_label.npy')\n",
    "\n",
    "\n",
    "print(train_data.shape)\n",
    "print(train_label.shape)\n",
    "print(test_data.shape)\n",
    "print(test_label.shape)\n",
    "\n",
    "print(test_label[1])\n",
    "print(train_label.max())\n",
    "print(train_label.min())"
   ]
  },
  {
   "cell_type": "code",
   "execution_count": null,
   "id": "11af18f9",
   "metadata": {},
   "outputs": [],
   "source": [
    "plt.plot(train_data[11609])"
   ]
  },
  {
   "cell_type": "code",
   "execution_count": 16,
   "id": "d0375097",
   "metadata": {},
   "outputs": [
    {
     "data": {
      "text/plain": [
       "<matplotlib.collections.PathCollection at 0x7f60e47adca0>"
      ]
     },
     "execution_count": 16,
     "metadata": {},
     "output_type": "execute_result"
    },
    {
     "data": {
      "image/png": "[encoded data removed]",
      "text/plain": [
       "<Figure size 640x480 with 1 Axes>"
      ]
     },
     "metadata": {},
     "output_type": "display_data"
    }
   ],
   "source": [
    "plt.scatter([i for i in range(100)],test_data[10][2000:2100])"
   ]
  },
  {
   "cell_type": "code",
   "execution_count": 17,
   "id": "798333f8",
   "metadata": {},
   "outputs": [
    {
     "name": "stdout",
     "output_type": "stream",
     "text": [
      "WARNING:tensorflow:No training configuration found in the save file, so the model was *not* compiled. Compile it manually.\n",
      "Model: \"functional_1\"\n",
      "__________________________________________________________________________________________________\n",
      " Layer (type)                   Output Shape         Param #     Connected to                     \n",
      "==================================================================================================\n",
      " ecg (InputLayer)               [(None, 4096, 1)]    0           []                               \n",
      "                                                                                                  \n",
      " conv1d (Conv1D)                (None, 4096, 64)     1024        ['ecg[0][0]']                    \n",
      "                                                                                                  \n",
      " batch_normalization (BatchNorm  (None, 4096, 64)    256         ['conv1d[0][0]']                 \n",
      " alization)                                                                                       \n",
      "                                                                                                  \n",
      " activation (Activation)        (None, 4096, 64)     0           ['batch_normalization[0][0]']    \n",
      "                                                                                                  \n",
      " conv1d_2 (Conv1D)              (None, 4096, 128)    131072      ['activation[0][0]']             \n",
      "                                                                                                  \n",
      " batch_normalization_1 (BatchNo  (None, 4096, 128)   512         ['conv1d_2[0][0]']               \n",
      " rmalization)                                                                                     \n",
      "                                                                                                  \n",
      " activation_1 (Activation)      (None, 4096, 128)    0           ['batch_normalization_1[0][0]']  \n",
      "                                                                                                  \n",
      " max_pooling1d (MaxPooling1D)   (None, 1024, 64)     0           ['activation[0][0]']             \n",
      "                                                                                                  \n",
      " conv1d_3 (Conv1D)              (None, 1024, 128)    262144      ['activation_1[0][0]']           \n",
      "                                                                                                  \n",
      " conv1d_1 (Conv1D)              (None, 1024, 128)    8192        ['max_pooling1d[0][0]']          \n",
      "                                                                                                  \n",
      " add (Add)                      (None, 1024, 128)    0           ['conv1d_3[0][0]',               \n",
      "                                                                  'conv1d_1[0][0]']               \n",
      "                                                                                                  \n",
      " batch_normalization_2 (BatchNo  (None, 1024, 128)   512         ['add[0][0]']                    \n",
      " rmalization)                                                                                     \n",
      "                                                                                                  \n",
      " activation_2 (Activation)      (None, 1024, 128)    0           ['batch_normalization_2[0][0]']  \n",
      "                                                                                                  \n",
      " conv1d_5 (Conv1D)              (None, 1024, 196)    401408      ['activation_2[0][0]']           \n",
      "                                                                                                  \n",
      " batch_normalization_3 (BatchNo  (None, 1024, 196)   784         ['conv1d_5[0][0]']               \n",
      " rmalization)                                                                                     \n",
      "                                                                                                  \n",
      " activation_3 (Activation)      (None, 1024, 196)    0           ['batch_normalization_3[0][0]']  \n",
      "                                                                                                  \n",
      " max_pooling1d_1 (MaxPooling1D)  (None, 256, 128)    0           ['add[0][0]']                    \n",
      "                                                                                                  \n",
      " conv1d_6 (Conv1D)              (None, 256, 196)     614656      ['activation_3[0][0]']           \n",
      "                                                                                                  \n",
      " conv1d_4 (Conv1D)              (None, 256, 196)     25088       ['max_pooling1d_1[0][0]']        \n",
      "                                                                                                  \n",
      " add_1 (Add)                    (None, 256, 196)     0           ['conv1d_6[0][0]',               \n",
      "                                                                  'conv1d_4[0][0]']               \n",
      "                                                                                                  \n",
      " batch_normalization_4 (BatchNo  (None, 256, 196)    784         ['add_1[0][0]']                  \n",
      " rmalization)                                                                                     \n",
      "                                                                                                  \n",
      " activation_4 (Activation)      (None, 256, 196)     0           ['batch_normalization_4[0][0]']  \n",
      "                                                                                                  \n",
      " conv1d_8 (Conv1D)              (None, 256, 256)     802816      ['activation_4[0][0]']           \n",
      "                                                                                                  \n",
      " batch_normalization_5 (BatchNo  (None, 256, 256)    1024        ['conv1d_8[0][0]']               \n",
      " rmalization)                                                                                     \n",
      "                                                                                                  \n",
      " activation_5 (Activation)      (None, 256, 256)     0           ['batch_normalization_5[0][0]']  \n",
      "                                                                                                  \n",
      " max_pooling1d_2 (MaxPooling1D)  (None, 64, 196)     0           ['add_1[0][0]']                  \n",
      "                                                                                                  \n",
      " conv1d_9 (Conv1D)              (None, 64, 256)      1048576     ['activation_5[0][0]']           \n",
      "                                                                                                  \n",
      " conv1d_7 (Conv1D)              (None, 64, 256)      50176       ['max_pooling1d_2[0][0]']        \n",
      "                                                                                                  \n",
      " add_2 (Add)                    (None, 64, 256)      0           ['conv1d_9[0][0]',               \n",
      "                                                                  'conv1d_7[0][0]']               \n",
      "                                                                                                  \n",
      " batch_normalization_6 (BatchNo  (None, 64, 256)     1024        ['add_2[0][0]']                  \n",
      " rmalization)                                                                                     \n",
      "                                                                                                  \n",
      " activation_6 (Activation)      (None, 64, 256)      0           ['batch_normalization_6[0][0]']  \n",
      "                                                                                                  \n",
      " conv1d_11 (Conv1D)             (None, 64, 320)      1310720     ['activation_6[0][0]']           \n",
      "                                                                                                  \n",
      " batch_normalization_7 (BatchNo  (None, 64, 320)     1280        ['conv1d_11[0][0]']              \n",
      " rmalization)                                                                                     \n",
      "                                                                                                  \n",
      " activation_7 (Activation)      (None, 64, 320)      0           ['batch_normalization_7[0][0]']  \n",
      "                                                                                                  \n",
      " max_pooling1d_3 (MaxPooling1D)  (None, 16, 256)     0           ['add_2[0][0]']                  \n",
      "                                                                                                  \n",
      " conv1d_12 (Conv1D)             (None, 16, 320)      1638400     ['activation_7[0][0]']           \n",
      "                                                                                                  \n",
      " conv1d_10 (Conv1D)             (None, 16, 320)      81920       ['max_pooling1d_3[0][0]']        \n",
      "                                                                                                  \n",
      " add_3 (Add)                    (None, 16, 320)      0           ['conv1d_12[0][0]',              \n",
      "                                                                  'conv1d_10[0][0]']              \n",
      "                                                                                                  \n",
      " batch_normalization_8 (BatchNo  (None, 16, 320)     1280        ['add_3[0][0]']                  \n",
      " rmalization)                                                                                     \n",
      "                                                                                                  \n",
      " activation_8 (Activation)      (None, 16, 320)      0           ['batch_normalization_8[0][0]']  \n",
      "                                                                                                  \n",
      " embed (GlobalAveragePooling1D)  (None, 320)         0           ['activation_8[0][0]']           \n",
      "                                                                                                  \n",
      "==================================================================================================\n",
      "Total params: 6,383,648\n",
      "Trainable params: 6,379,920\n",
      "Non-trainable params: 3,728\n",
      "__________________________________________________________________________________________________\n"
     ]
    }
   ],
   "source": [
    "# clear_output()\n",
    "pclr = load_model('./PCLR_lead_I_finetune.h5')\n",
    "pclr.summary()\n",
    "# clear_output()"
   ]
  },
  {
   "cell_type": "code",
   "execution_count": 18,
   "id": "edbd8fff",
   "metadata": {},
   "outputs": [
    {
     "name": "stdout",
     "output_type": "stream",
     "text": [
      "Model: \"sequential\"\n",
      "_________________________________________________________________\n",
      " Layer (type)                Output Shape              Param #   \n",
      "=================================================================\n",
      " functional_1 (Functional)   (None, 320)               6383648   \n",
      "                                                                 \n",
      " dense (Dense)               (None, 320)               102720    \n",
      "                                                                 \n",
      " dense_1 (Dense)             (None, 160)               51360     \n",
      "                                                                 \n",
      " dense_2 (Dense)             (None, 32)                5152      \n",
      "                                                                 \n",
      " dense_3 (Dense)             (None, 4)                 132       \n",
      "                                                                 \n",
      "=================================================================\n",
      "Total params: 6,543,012\n",
      "Trainable params: 159,364\n",
      "Non-trainable params: 6,383,648\n",
      "_________________________________________________________________\n"
     ]
    }
   ],
   "source": [
    "length = 32\n",
    "model = tf.keras.models.Sequential()\n",
    "model.add(pclr)  # 记得改模型名称\n",
    "model.add(Dense(length*10,activation='relu'))\n",
    "model.add(Dense(length*5,activation='relu'))\n",
    "# model.add(Dense(length*2,activation='relu'))\n",
    "model.add(Dense(length,activation='relu'))\n",
    "model.add(Dense(4)) # sbp dbp sbp dbp\n",
    "model.layers[0].trainable = False\n",
    "model.summary()"
   ]
  },
  {
   "cell_type": "code",
   "execution_count": 19,
   "id": "cdcf5864",
   "metadata": {},
   "outputs": [],
   "source": [
    "# model = keras.models.load_model('./mse/mse-320-160-32-4-179-21.80.h5')\n",
    "# clear_output()"
   ]
  },
  {
   "cell_type": "code",
   "execution_count": 20,
   "id": "633a196e",
   "metadata": {},
   "outputs": [
    {
     "name": "stdout",
     "output_type": "stream",
     "text": [
      "Epoch 1/500\n"
     ]
    },
    {
     "name": "stderr",
     "output_type": "stream",
     "text": [
      "2022-12-07 20:49:27.756424: I tensorflow/stream_executor/cuda/cuda_dnn.cc:366] Loaded cuDNN version 8303\n"
     ]
    },
    {
     "name": "stdout",
     "output_type": "stream",
     "text": [
      "46/46 [==============================] - 8s 101ms/step - loss: 8026.7373 - val_loss: 4820.4116\n",
      "Epoch 2/500\n",
      "46/46 [==============================] - 3s 70ms/step - loss: 1890.5768 - val_loss: 480.4706\n",
      "Epoch 3/500\n",
      "46/46 [==============================] - 3s 71ms/step - loss: 405.2073 - val_loss: 369.1051\n",
      "Epoch 4/500\n",
      "46/46 [==============================] - 3s 71ms/step - loss: 323.1696 - val_loss: 301.9425\n",
      "Epoch 5/500\n",
      "46/46 [==============================] - 3s 71ms/step - loss: 263.8764 - val_loss: 248.6975\n",
      "Epoch 6/500\n",
      "46/46 [==============================] - 3s 71ms/step - loss: 216.3642 - val_loss: 205.7137\n",
      "Epoch 7/500\n",
      "46/46 [==============================] - 3s 70ms/step - loss: 179.5984 - val_loss: 173.0722\n",
      "Epoch 8/500\n",
      "46/46 [==============================] - 3s 71ms/step - loss: 151.4422 - val_loss: 147.4258\n",
      "Epoch 9/500\n",
      "46/46 [==============================] - 3s 71ms/step - loss: 128.6557 - val_loss: 125.8193\n",
      "Epoch 10/500\n",
      "46/46 [==============================] - 3s 71ms/step - loss: 110.8275 - val_loss: 111.0879\n",
      "Epoch 11/500\n",
      "46/46 [==============================] - 3s 71ms/step - loss: 98.2489 - val_loss: 99.9739\n",
      "Epoch 12/500\n",
      "46/46 [==============================] - 3s 71ms/step - loss: 88.7287 - val_loss: 91.6062\n",
      "Epoch 13/500\n",
      "46/46 [==============================] - 3s 71ms/step - loss: 81.6659 - val_loss: 85.5180\n",
      "Epoch 14/500\n",
      "46/46 [==============================] - 3s 71ms/step - loss: 76.3694 - val_loss: 80.7572\n",
      "Epoch 15/500\n",
      "46/46 [==============================] - 3s 71ms/step - loss: 72.3876 - val_loss: 77.8203\n",
      "Epoch 16/500\n",
      "46/46 [==============================] - 3s 71ms/step - loss: 69.3601 - val_loss: 74.4318\n",
      "Epoch 17/500\n",
      "46/46 [==============================] - 3s 70ms/step - loss: 66.4622 - val_loss: 71.1225\n",
      "Epoch 18/500\n",
      "46/46 [==============================] - 3s 71ms/step - loss: 63.8542 - val_loss: 68.5208\n",
      "Epoch 19/500\n",
      "46/46 [==============================] - 3s 71ms/step - loss: 61.7632 - val_loss: 66.2444\n",
      "Epoch 20/500\n",
      "46/46 [==============================] - 3s 71ms/step - loss: 59.5617 - val_loss: 64.3155\n",
      "Epoch 21/500\n",
      "46/46 [==============================] - 3s 70ms/step - loss: 58.0382 - val_loss: 62.6183\n",
      "Epoch 22/500\n",
      "46/46 [==============================] - 3s 71ms/step - loss: 56.2335 - val_loss: 60.8147\n",
      "Epoch 23/500\n",
      "46/46 [==============================] - 3s 70ms/step - loss: 54.6537 - val_loss: 59.8162\n",
      "Epoch 24/500\n",
      "46/46 [==============================] - 3s 71ms/step - loss: 53.2987 - val_loss: 57.9132\n",
      "Epoch 25/500\n",
      "46/46 [==============================] - 3s 71ms/step - loss: 51.8288 - val_loss: 56.5329\n",
      "Epoch 26/500\n",
      "46/46 [==============================] - 3s 71ms/step - loss: 50.7650 - val_loss: 55.5883\n",
      "Epoch 27/500\n",
      "46/46 [==============================] - 3s 71ms/step - loss: 50.1019 - val_loss: 54.1358\n",
      "Epoch 28/500\n",
      "46/46 [==============================] - 3s 71ms/step - loss: 48.5472 - val_loss: 53.1383\n",
      "Epoch 29/500\n",
      "46/46 [==============================] - 3s 71ms/step - loss: 47.4061 - val_loss: 52.1153\n",
      "Epoch 30/500\n",
      "46/46 [==============================] - 3s 71ms/step - loss: 46.5704 - val_loss: 51.0374\n",
      "Epoch 31/500\n",
      "46/46 [==============================] - 3s 70ms/step - loss: 45.5397 - val_loss: 50.2346\n",
      "Epoch 32/500\n",
      "46/46 [==============================] - 3s 71ms/step - loss: 44.6633 - val_loss: 49.3488\n",
      "Epoch 33/500\n",
      "46/46 [==============================] - 3s 71ms/step - loss: 43.8977 - val_loss: 48.6993\n",
      "Epoch 34/500\n",
      "46/46 [==============================] - 3s 71ms/step - loss: 43.2686 - val_loss: 47.9168\n",
      "Epoch 35/500\n",
      "46/46 [==============================] - 3s 71ms/step - loss: 42.4739 - val_loss: 47.6094\n",
      "Epoch 36/500\n",
      "46/46 [==============================] - 3s 71ms/step - loss: 41.8814 - val_loss: 46.6194\n",
      "Epoch 37/500\n",
      "46/46 [==============================] - 3s 71ms/step - loss: 40.9845 - val_loss: 46.2061\n",
      "Epoch 38/500\n",
      "46/46 [==============================] - 3s 71ms/step - loss: 40.4168 - val_loss: 45.9544\n",
      "Epoch 39/500\n",
      "46/46 [==============================] - 3s 71ms/step - loss: 40.1170 - val_loss: 44.8761\n",
      "Epoch 40/500\n",
      "46/46 [==============================] - 3s 71ms/step - loss: 39.4291 - val_loss: 44.4341\n",
      "Epoch 41/500\n",
      "46/46 [==============================] - 3s 71ms/step - loss: 38.7859 - val_loss: 43.8037\n",
      "Epoch 42/500\n",
      "46/46 [==============================] - 3s 71ms/step - loss: 38.3549 - val_loss: 43.3513\n",
      "Epoch 43/500\n",
      "46/46 [==============================] - 3s 71ms/step - loss: 38.1967 - val_loss: 43.2321\n",
      "Epoch 44/500\n",
      "46/46 [==============================] - 3s 71ms/step - loss: 37.5920 - val_loss: 44.3353\n",
      "Epoch 45/500\n",
      "46/46 [==============================] - 3s 71ms/step - loss: 37.0685 - val_loss: 42.0323\n",
      "Epoch 46/500\n",
      "46/46 [==============================] - 3s 71ms/step - loss: 36.3575 - val_loss: 41.4889\n",
      "Epoch 47/500\n",
      "46/46 [==============================] - 3s 71ms/step - loss: 36.0477 - val_loss: 41.2060\n",
      "Epoch 48/500\n",
      "46/46 [==============================] - 3s 71ms/step - loss: 35.6663 - val_loss: 40.7228\n",
      "Epoch 49/500\n",
      "46/46 [==============================] - 3s 71ms/step - loss: 35.1220 - val_loss: 40.3490\n",
      "Epoch 50/500\n",
      "46/46 [==============================] - 3s 71ms/step - loss: 34.9566 - val_loss: 40.3329\n",
      "Epoch 51/500\n",
      "46/46 [==============================] - 3s 71ms/step - loss: 34.4814 - val_loss: 39.8962\n",
      "Epoch 52/500\n",
      "46/46 [==============================] - 3s 71ms/step - loss: 33.8812 - val_loss: 39.2353\n",
      "Epoch 53/500\n",
      "46/46 [==============================] - 3s 71ms/step - loss: 33.6008 - val_loss: 39.1507\n",
      "Epoch 54/500\n",
      "46/46 [==============================] - 3s 71ms/step - loss: 33.2394 - val_loss: 38.6088\n",
      "Epoch 55/500\n",
      "46/46 [==============================] - 3s 71ms/step - loss: 32.7998 - val_loss: 38.1520\n",
      "Epoch 56/500\n",
      "46/46 [==============================] - 3s 71ms/step - loss: 32.6962 - val_loss: 37.8264\n",
      "Epoch 57/500\n",
      "46/46 [==============================] - 3s 71ms/step - loss: 32.4580 - val_loss: 37.9668\n",
      "Epoch 58/500\n",
      "46/46 [==============================] - 3s 71ms/step - loss: 32.0738 - val_loss: 37.2348\n",
      "Epoch 59/500\n",
      "46/46 [==============================] - 3s 71ms/step - loss: 31.6788 - val_loss: 36.8459\n",
      "Epoch 60/500\n",
      "46/46 [==============================] - 3s 71ms/step - loss: 31.1612 - val_loss: 37.1075\n",
      "Epoch 61/500\n",
      "46/46 [==============================] - 3s 71ms/step - loss: 30.8302 - val_loss: 36.3740\n",
      "Epoch 62/500\n",
      "46/46 [==============================] - 3s 71ms/step - loss: 30.7101 - val_loss: 35.9029\n",
      "Epoch 63/500\n",
      "46/46 [==============================] - 3s 71ms/step - loss: 30.3254 - val_loss: 36.3750\n",
      "Epoch 64/500\n",
      "46/46 [==============================] - 3s 71ms/step - loss: 30.0952 - val_loss: 35.5112\n",
      "Epoch 65/500\n",
      "46/46 [==============================] - 3s 71ms/step - loss: 29.7894 - val_loss: 35.9394\n",
      "Epoch 66/500\n",
      "46/46 [==============================] - 3s 71ms/step - loss: 29.6165 - val_loss: 35.2008\n",
      "Epoch 67/500\n",
      "46/46 [==============================] - 3s 71ms/step - loss: 29.7149 - val_loss: 36.2425\n",
      "Epoch 68/500\n",
      "46/46 [==============================] - 3s 71ms/step - loss: 29.0483 - val_loss: 34.5528\n",
      "Epoch 69/500\n",
      "46/46 [==============================] - 3s 71ms/step - loss: 28.8462 - val_loss: 34.5715\n",
      "Epoch 70/500\n",
      "46/46 [==============================] - 3s 71ms/step - loss: 28.6962 - val_loss: 34.1283\n",
      "Epoch 71/500\n",
      "46/46 [==============================] - 3s 71ms/step - loss: 28.4453 - val_loss: 34.6431\n",
      "Epoch 72/500\n",
      "46/46 [==============================] - 3s 71ms/step - loss: 28.0583 - val_loss: 34.0861\n",
      "Epoch 73/500\n",
      "46/46 [==============================] - 3s 71ms/step - loss: 28.1278 - val_loss: 33.6925\n",
      "Epoch 74/500\n",
      "46/46 [==============================] - 3s 71ms/step - loss: 28.1113 - val_loss: 33.8948\n",
      "Epoch 75/500\n",
      "46/46 [==============================] - 3s 71ms/step - loss: 27.7163 - val_loss: 33.6286\n",
      "Epoch 76/500\n",
      "46/46 [==============================] - 3s 71ms/step - loss: 27.6966 - val_loss: 33.3819\n",
      "Epoch 77/500\n",
      "46/46 [==============================] - 3s 71ms/step - loss: 27.1858 - val_loss: 32.7420\n",
      "Epoch 78/500\n",
      "46/46 [==============================] - 3s 71ms/step - loss: 26.6662 - val_loss: 32.7703\n",
      "Epoch 79/500\n",
      "46/46 [==============================] - 3s 71ms/step - loss: 26.7821 - val_loss: 32.4073\n",
      "Epoch 80/500\n",
      "46/46 [==============================] - 3s 71ms/step - loss: 26.5550 - val_loss: 33.5861\n",
      "Epoch 81/500\n",
      "46/46 [==============================] - 3s 71ms/step - loss: 26.4737 - val_loss: 31.9949\n",
      "Epoch 82/500\n",
      "46/46 [==============================] - 3s 71ms/step - loss: 26.1510 - val_loss: 32.1359\n",
      "Epoch 83/500\n",
      "46/46 [==============================] - 3s 71ms/step - loss: 25.9318 - val_loss: 32.3979\n",
      "Epoch 84/500\n",
      "46/46 [==============================] - 3s 71ms/step - loss: 25.7475 - val_loss: 31.9151\n",
      "Epoch 85/500\n",
      "46/46 [==============================] - 3s 71ms/step - loss: 25.5540 - val_loss: 31.8013\n",
      "Epoch 86/500\n",
      "46/46 [==============================] - 3s 71ms/step - loss: 25.4115 - val_loss: 31.0834\n",
      "Epoch 87/500\n",
      "46/46 [==============================] - 3s 71ms/step - loss: 25.2177 - val_loss: 31.0732\n",
      "Epoch 88/500\n",
      "46/46 [==============================] - 3s 71ms/step - loss: 25.1778 - val_loss: 30.9800\n",
      "Epoch 89/500\n",
      "46/46 [==============================] - 3s 71ms/step - loss: 24.9999 - val_loss: 30.7612\n",
      "Epoch 90/500\n",
      "46/46 [==============================] - 3s 71ms/step - loss: 24.7894 - val_loss: 30.6069\n",
      "Epoch 91/500\n",
      "46/46 [==============================] - 3s 71ms/step - loss: 24.6938 - val_loss: 30.8954\n",
      "Epoch 92/500\n",
      "46/46 [==============================] - 3s 71ms/step - loss: 24.3713 - val_loss: 30.5381\n",
      "Epoch 93/500\n",
      "46/46 [==============================] - 3s 71ms/step - loss: 24.3120 - val_loss: 30.6419\n",
      "Epoch 94/500\n",
      "46/46 [==============================] - 3s 71ms/step - loss: 24.7579 - val_loss: 30.4637\n",
      "Epoch 95/500\n",
      "46/46 [==============================] - 3s 71ms/step - loss: 23.9303 - val_loss: 30.5359\n",
      "Epoch 96/500\n",
      "46/46 [==============================] - 3s 71ms/step - loss: 23.9506 - val_loss: 29.8078\n",
      "Epoch 97/500\n",
      "46/46 [==============================] - 3s 71ms/step - loss: 23.8450 - val_loss: 30.1762\n",
      "Epoch 98/500\n",
      "46/46 [==============================] - 3s 71ms/step - loss: 23.5894 - val_loss: 29.3430\n",
      "Epoch 99/500\n",
      "46/46 [==============================] - 3s 71ms/step - loss: 23.3683 - val_loss: 30.9795\n",
      "Epoch 100/500\n",
      "46/46 [==============================] - 3s 71ms/step - loss: 23.3286 - val_loss: 29.2962\n",
      "Epoch 101/500\n",
      "46/46 [==============================] - 3s 71ms/step - loss: 23.4790 - val_loss: 29.3783\n",
      "Epoch 102/500\n",
      "46/46 [==============================] - 3s 71ms/step - loss: 23.5770 - val_loss: 29.0799\n",
      "Epoch 103/500\n",
      "46/46 [==============================] - 3s 71ms/step - loss: 23.0845 - val_loss: 29.3023\n",
      "Epoch 104/500\n",
      "46/46 [==============================] - 3s 71ms/step - loss: 22.9658 - val_loss: 29.2198\n",
      "Epoch 105/500\n",
      "46/46 [==============================] - 3s 71ms/step - loss: 22.7399 - val_loss: 28.8415\n",
      "Epoch 106/500\n",
      "46/46 [==============================] - 3s 71ms/step - loss: 22.5759 - val_loss: 29.3268\n",
      "Epoch 107/500\n",
      "46/46 [==============================] - 3s 71ms/step - loss: 22.6051 - val_loss: 28.9328\n",
      "Epoch 108/500\n",
      "46/46 [==============================] - 3s 71ms/step - loss: 22.4255 - val_loss: 28.7505\n",
      "Epoch 109/500\n",
      "46/46 [==============================] - 3s 71ms/step - loss: 22.3085 - val_loss: 28.9496\n",
      "Epoch 110/500\n",
      "46/46 [==============================] - 3s 71ms/step - loss: 22.5394 - val_loss: 28.7495\n",
      "Epoch 111/500\n",
      "46/46 [==============================] - 3s 71ms/step - loss: 22.2413 - val_loss: 28.5004\n",
      "Epoch 112/500\n",
      "46/46 [==============================] - 3s 71ms/step - loss: 22.1248 - val_loss: 28.2130\n",
      "Epoch 113/500\n",
      "46/46 [==============================] - 3s 71ms/step - loss: 21.6435 - val_loss: 28.5247\n",
      "Epoch 114/500\n",
      "46/46 [==============================] - 3s 71ms/step - loss: 22.0120 - val_loss: 27.9984\n",
      "Epoch 115/500\n",
      "46/46 [==============================] - 3s 71ms/step - loss: 21.7679 - val_loss: 28.3366\n",
      "Epoch 116/500\n",
      "46/46 [==============================] - 3s 71ms/step - loss: 21.5267 - val_loss: 28.4997\n",
      "Epoch 117/500\n",
      "46/46 [==============================] - 3s 71ms/step - loss: 21.3320 - val_loss: 28.0415\n",
      "Epoch 118/500\n",
      "46/46 [==============================] - 3s 71ms/step - loss: 21.5834 - val_loss: 27.9502\n",
      "Epoch 119/500\n",
      "46/46 [==============================] - 3s 71ms/step - loss: 21.2981 - val_loss: 27.7807\n",
      "Epoch 120/500\n",
      "46/46 [==============================] - 3s 71ms/step - loss: 21.4891 - val_loss: 27.7088\n",
      "Epoch 121/500\n",
      "46/46 [==============================] - 3s 71ms/step - loss: 21.0436 - val_loss: 27.4256\n",
      "Epoch 122/500\n",
      "46/46 [==============================] - 3s 71ms/step - loss: 21.1131 - val_loss: 27.9219\n",
      "Epoch 123/500\n",
      "46/46 [==============================] - 3s 71ms/step - loss: 21.0577 - val_loss: 27.4042\n",
      "Epoch 124/500\n",
      "46/46 [==============================] - 3s 71ms/step - loss: 20.8227 - val_loss: 28.6909\n",
      "Epoch 125/500\n",
      "46/46 [==============================] - 3s 71ms/step - loss: 20.8390 - val_loss: 27.1326\n",
      "Epoch 126/500\n",
      "46/46 [==============================] - 3s 71ms/step - loss: 20.5534 - val_loss: 27.5347\n",
      "Epoch 127/500\n",
      "46/46 [==============================] - 3s 71ms/step - loss: 20.3920 - val_loss: 26.9969\n",
      "Epoch 128/500\n",
      "46/46 [==============================] - 3s 71ms/step - loss: 20.5874 - val_loss: 28.3869\n",
      "Epoch 129/500\n",
      "46/46 [==============================] - 3s 71ms/step - loss: 20.5484 - val_loss: 27.0171\n",
      "Epoch 130/500\n",
      "46/46 [==============================] - 3s 71ms/step - loss: 20.3051 - val_loss: 28.3733\n",
      "Epoch 131/500\n",
      "46/46 [==============================] - 3s 71ms/step - loss: 20.2753 - val_loss: 26.9449\n",
      "Epoch 132/500\n",
      "46/46 [==============================] - 3s 71ms/step - loss: 20.1709 - val_loss: 26.7186\n",
      "Epoch 133/500\n",
      "46/46 [==============================] - 3s 71ms/step - loss: 20.1508 - val_loss: 26.4569\n",
      "Epoch 134/500\n",
      "46/46 [==============================] - 3s 71ms/step - loss: 20.2020 - val_loss: 26.3680\n",
      "Epoch 135/500\n",
      "46/46 [==============================] - 3s 71ms/step - loss: 19.8511 - val_loss: 27.5316\n",
      "Epoch 136/500\n",
      "46/46 [==============================] - 3s 71ms/step - loss: 20.0199 - val_loss: 26.6454\n",
      "Epoch 137/500\n",
      "46/46 [==============================] - 3s 71ms/step - loss: 19.7829 - val_loss: 26.3794\n",
      "Epoch 138/500\n",
      "46/46 [==============================] - 3s 71ms/step - loss: 19.6433 - val_loss: 26.6137\n",
      "Epoch 139/500\n",
      "46/46 [==============================] - 3s 71ms/step - loss: 19.5638 - val_loss: 26.2180\n",
      "Epoch 140/500\n",
      "46/46 [==============================] - 3s 71ms/step - loss: 19.6209 - val_loss: 26.2292\n",
      "Epoch 141/500\n",
      "46/46 [==============================] - 3s 71ms/step - loss: 19.5353 - val_loss: 26.1683\n",
      "Epoch 142/500\n",
      "46/46 [==============================] - 3s 71ms/step - loss: 19.2710 - val_loss: 26.3884\n",
      "Epoch 143/500\n",
      "46/46 [==============================] - 3s 71ms/step - loss: 19.2718 - val_loss: 26.2643\n",
      "Epoch 144/500\n",
      "46/46 [==============================] - 3s 71ms/step - loss: 19.2405 - val_loss: 26.5648\n",
      "Epoch 145/500\n",
      "46/46 [==============================] - 3s 71ms/step - loss: 19.3426 - val_loss: 26.8056\n",
      "Epoch 146/500\n",
      "46/46 [==============================] - 3s 71ms/step - loss: 19.0008 - val_loss: 26.7744\n",
      "Epoch 147/500\n",
      "46/46 [==============================] - 3s 71ms/step - loss: 19.1246 - val_loss: 25.8303\n",
      "Epoch 148/500\n",
      "46/46 [==============================] - 3s 71ms/step - loss: 19.0824 - val_loss: 28.0153\n",
      "Epoch 149/500\n",
      "46/46 [==============================] - 3s 71ms/step - loss: 19.0048 - val_loss: 26.6742\n",
      "Epoch 150/500\n",
      "46/46 [==============================] - 3s 71ms/step - loss: 18.9241 - val_loss: 26.5318\n",
      "Epoch 151/500\n",
      "46/46 [==============================] - 3s 71ms/step - loss: 19.2175 - val_loss: 25.9206\n",
      "Epoch 152/500\n",
      "46/46 [==============================] - 3s 71ms/step - loss: 18.6997 - val_loss: 25.8371\n",
      "Epoch 153/500\n",
      "26/46 [===============>..............] - ETA: 1s - loss: 18.8628"
     ]
    },
    {
     "ename": "KeyboardInterrupt",
     "evalue": "",
     "output_type": "error",
     "traceback": [
      "\u001b[0;31m---------------------------------------------------------------------------\u001b[0m",
      "\u001b[0;31mKeyboardInterrupt\u001b[0m                         Traceback (most recent call last)",
      "Cell \u001b[0;32mIn[20], line 24\u001b[0m\n\u001b[1;32m     15\u001b[0m checkpoint \u001b[38;5;241m=\u001b[39m ModelCheckpoint(filepath\u001b[38;5;241m=\u001b[39mmodel_name, \n\u001b[1;32m     16\u001b[0m                              monitor\u001b[38;5;241m=\u001b[39m\u001b[38;5;124m'\u001b[39m\u001b[38;5;124mval_loss\u001b[39m\u001b[38;5;124m'\u001b[39m, \n\u001b[1;32m     17\u001b[0m                              verbose\u001b[38;5;241m=\u001b[39m\u001b[38;5;241m1\u001b[39m, \n\u001b[0;32m   (...)\u001b[0m\n\u001b[1;32m     20\u001b[0m                              save_best_value\u001b[38;5;241m=\u001b[39m\u001b[38;5;28;01mTrue\u001b[39;00m,\n\u001b[1;32m     21\u001b[0m                              initial_value_threshold\u001b[38;5;241m=\u001b[39m\u001b[38;5;241m30\u001b[39m)\n\u001b[1;32m     22\u001b[0m callback_list \u001b[38;5;241m=\u001b[39m [checkpoint]\n\u001b[0;32m---> 24\u001b[0m h \u001b[38;5;241m=\u001b[39m \u001b[43mmodel\u001b[49m\u001b[38;5;241;43m.\u001b[39;49m\u001b[43mfit\u001b[49m\u001b[43m(\u001b[49m\u001b[43mtrain_data\u001b[49m\u001b[43m,\u001b[49m\u001b[43mtrain_label\u001b[49m\u001b[43m,\u001b[49m\u001b[43m \u001b[49m\n\u001b[1;32m     25\u001b[0m \u001b[43m              \u001b[49m\u001b[43mvalidation_data\u001b[49m\u001b[38;5;241;43m=\u001b[39;49m\u001b[43m(\u001b[49m\u001b[43mtest_data\u001b[49m\u001b[43m,\u001b[49m\u001b[43mtest_label\u001b[49m\u001b[43m)\u001b[49m\u001b[43m,\u001b[49m\u001b[43m \u001b[49m\n\u001b[1;32m     26\u001b[0m \u001b[43m              \u001b[49m\u001b[43mepochs\u001b[49m\u001b[38;5;241;43m=\u001b[39;49m\u001b[43mepoch\u001b[49m\u001b[43m,\u001b[49m\u001b[43m \u001b[49m\n\u001b[1;32m     27\u001b[0m \u001b[43m              \u001b[49m\u001b[43mbatch_size\u001b[49m\u001b[38;5;241;43m=\u001b[39;49m\u001b[43mbatch_size\u001b[49m\u001b[43m,\u001b[49m\u001b[43m \u001b[49m\n\u001b[1;32m     28\u001b[0m \u001b[43m              \u001b[49m\u001b[43mshuffle\u001b[49m\u001b[38;5;241;43m=\u001b[39;49m\u001b[38;5;28;43;01mTrue\u001b[39;49;00m\u001b[43m,\u001b[49m\u001b[43m \u001b[49m\n\u001b[1;32m     29\u001b[0m \u001b[38;5;66;43;03m#               callbacks=callback_list\u001b[39;49;00m\n\u001b[1;32m     30\u001b[0m \u001b[43m             \u001b[49m\u001b[43m)\u001b[49m\n",
      "File \u001b[0;32m~/anaconda3/envs/pclr/lib/python3.8/site-packages/keras/utils/traceback_utils.py:64\u001b[0m, in \u001b[0;36mfilter_traceback.<locals>.error_handler\u001b[0;34m(*args, **kwargs)\u001b[0m\n\u001b[1;32m     62\u001b[0m filtered_tb \u001b[38;5;241m=\u001b[39m \u001b[38;5;28;01mNone\u001b[39;00m\n\u001b[1;32m     63\u001b[0m \u001b[38;5;28;01mtry\u001b[39;00m:\n\u001b[0;32m---> 64\u001b[0m   \u001b[38;5;28;01mreturn\u001b[39;00m \u001b[43mfn\u001b[49m\u001b[43m(\u001b[49m\u001b[38;5;241;43m*\u001b[39;49m\u001b[43margs\u001b[49m\u001b[43m,\u001b[49m\u001b[43m \u001b[49m\u001b[38;5;241;43m*\u001b[39;49m\u001b[38;5;241;43m*\u001b[39;49m\u001b[43mkwargs\u001b[49m\u001b[43m)\u001b[49m\n\u001b[1;32m     65\u001b[0m \u001b[38;5;28;01mexcept\u001b[39;00m \u001b[38;5;167;01mException\u001b[39;00m \u001b[38;5;28;01mas\u001b[39;00m e:  \u001b[38;5;66;03m# pylint: disable=broad-except\u001b[39;00m\n\u001b[1;32m     66\u001b[0m   filtered_tb \u001b[38;5;241m=\u001b[39m _process_traceback_frames(e\u001b[38;5;241m.\u001b[39m__traceback__)\n",
      "File \u001b[0;32m~/anaconda3/envs/pclr/lib/python3.8/site-packages/keras/engine/training.py:1216\u001b[0m, in \u001b[0;36mModel.fit\u001b[0;34m(self, x, y, batch_size, epochs, verbose, callbacks, validation_split, validation_data, shuffle, class_weight, sample_weight, initial_epoch, steps_per_epoch, validation_steps, validation_batch_size, validation_freq, max_queue_size, workers, use_multiprocessing)\u001b[0m\n\u001b[1;32m   1209\u001b[0m \u001b[38;5;28;01mwith\u001b[39;00m tf\u001b[38;5;241m.\u001b[39mprofiler\u001b[38;5;241m.\u001b[39mexperimental\u001b[38;5;241m.\u001b[39mTrace(\n\u001b[1;32m   1210\u001b[0m     \u001b[38;5;124m'\u001b[39m\u001b[38;5;124mtrain\u001b[39m\u001b[38;5;124m'\u001b[39m,\n\u001b[1;32m   1211\u001b[0m     epoch_num\u001b[38;5;241m=\u001b[39mepoch,\n\u001b[1;32m   1212\u001b[0m     step_num\u001b[38;5;241m=\u001b[39mstep,\n\u001b[1;32m   1213\u001b[0m     batch_size\u001b[38;5;241m=\u001b[39mbatch_size,\n\u001b[1;32m   1214\u001b[0m     _r\u001b[38;5;241m=\u001b[39m\u001b[38;5;241m1\u001b[39m):\n\u001b[1;32m   1215\u001b[0m   callbacks\u001b[38;5;241m.\u001b[39mon_train_batch_begin(step)\n\u001b[0;32m-> 1216\u001b[0m   tmp_logs \u001b[38;5;241m=\u001b[39m \u001b[38;5;28;43mself\u001b[39;49m\u001b[38;5;241;43m.\u001b[39;49m\u001b[43mtrain_function\u001b[49m\u001b[43m(\u001b[49m\u001b[43miterator\u001b[49m\u001b[43m)\u001b[49m\n\u001b[1;32m   1217\u001b[0m   \u001b[38;5;28;01mif\u001b[39;00m data_handler\u001b[38;5;241m.\u001b[39mshould_sync:\n\u001b[1;32m   1218\u001b[0m     context\u001b[38;5;241m.\u001b[39masync_wait()\n",
      "File \u001b[0;32m~/anaconda3/envs/pclr/lib/python3.8/site-packages/tensorflow/python/util/traceback_utils.py:150\u001b[0m, in \u001b[0;36mfilter_traceback.<locals>.error_handler\u001b[0;34m(*args, **kwargs)\u001b[0m\n\u001b[1;32m    148\u001b[0m filtered_tb \u001b[38;5;241m=\u001b[39m \u001b[38;5;28;01mNone\u001b[39;00m\n\u001b[1;32m    149\u001b[0m \u001b[38;5;28;01mtry\u001b[39;00m:\n\u001b[0;32m--> 150\u001b[0m   \u001b[38;5;28;01mreturn\u001b[39;00m \u001b[43mfn\u001b[49m\u001b[43m(\u001b[49m\u001b[38;5;241;43m*\u001b[39;49m\u001b[43margs\u001b[49m\u001b[43m,\u001b[49m\u001b[43m \u001b[49m\u001b[38;5;241;43m*\u001b[39;49m\u001b[38;5;241;43m*\u001b[39;49m\u001b[43mkwargs\u001b[49m\u001b[43m)\u001b[49m\n\u001b[1;32m    151\u001b[0m \u001b[38;5;28;01mexcept\u001b[39;00m \u001b[38;5;167;01mException\u001b[39;00m \u001b[38;5;28;01mas\u001b[39;00m e:\n\u001b[1;32m    152\u001b[0m   filtered_tb \u001b[38;5;241m=\u001b[39m _process_traceback_frames(e\u001b[38;5;241m.\u001b[39m__traceback__)\n",
      "File \u001b[0;32m~/anaconda3/envs/pclr/lib/python3.8/site-packages/tensorflow/python/eager/def_function.py:910\u001b[0m, in \u001b[0;36mFunction.__call__\u001b[0;34m(self, *args, **kwds)\u001b[0m\n\u001b[1;32m    907\u001b[0m compiler \u001b[38;5;241m=\u001b[39m \u001b[38;5;124m\"\u001b[39m\u001b[38;5;124mxla\u001b[39m\u001b[38;5;124m\"\u001b[39m \u001b[38;5;28;01mif\u001b[39;00m \u001b[38;5;28mself\u001b[39m\u001b[38;5;241m.\u001b[39m_jit_compile \u001b[38;5;28;01melse\u001b[39;00m \u001b[38;5;124m\"\u001b[39m\u001b[38;5;124mnonXla\u001b[39m\u001b[38;5;124m\"\u001b[39m\n\u001b[1;32m    909\u001b[0m \u001b[38;5;28;01mwith\u001b[39;00m OptionalXlaContext(\u001b[38;5;28mself\u001b[39m\u001b[38;5;241m.\u001b[39m_jit_compile):\n\u001b[0;32m--> 910\u001b[0m   result \u001b[38;5;241m=\u001b[39m \u001b[38;5;28;43mself\u001b[39;49m\u001b[38;5;241;43m.\u001b[39;49m\u001b[43m_call\u001b[49m\u001b[43m(\u001b[49m\u001b[38;5;241;43m*\u001b[39;49m\u001b[43margs\u001b[49m\u001b[43m,\u001b[49m\u001b[43m \u001b[49m\u001b[38;5;241;43m*\u001b[39;49m\u001b[38;5;241;43m*\u001b[39;49m\u001b[43mkwds\u001b[49m\u001b[43m)\u001b[49m\n\u001b[1;32m    912\u001b[0m new_tracing_count \u001b[38;5;241m=\u001b[39m \u001b[38;5;28mself\u001b[39m\u001b[38;5;241m.\u001b[39mexperimental_get_tracing_count()\n\u001b[1;32m    913\u001b[0m without_tracing \u001b[38;5;241m=\u001b[39m (tracing_count \u001b[38;5;241m==\u001b[39m new_tracing_count)\n",
      "File \u001b[0;32m~/anaconda3/envs/pclr/lib/python3.8/site-packages/tensorflow/python/eager/def_function.py:942\u001b[0m, in \u001b[0;36mFunction._call\u001b[0;34m(self, *args, **kwds)\u001b[0m\n\u001b[1;32m    939\u001b[0m   \u001b[38;5;28mself\u001b[39m\u001b[38;5;241m.\u001b[39m_lock\u001b[38;5;241m.\u001b[39mrelease()\n\u001b[1;32m    940\u001b[0m   \u001b[38;5;66;03m# In this case we have created variables on the first call, so we run the\u001b[39;00m\n\u001b[1;32m    941\u001b[0m   \u001b[38;5;66;03m# defunned version which is guaranteed to never create variables.\u001b[39;00m\n\u001b[0;32m--> 942\u001b[0m   \u001b[38;5;28;01mreturn\u001b[39;00m \u001b[38;5;28;43mself\u001b[39;49m\u001b[38;5;241;43m.\u001b[39;49m\u001b[43m_stateless_fn\u001b[49m\u001b[43m(\u001b[49m\u001b[38;5;241;43m*\u001b[39;49m\u001b[43margs\u001b[49m\u001b[43m,\u001b[49m\u001b[43m \u001b[49m\u001b[38;5;241;43m*\u001b[39;49m\u001b[38;5;241;43m*\u001b[39;49m\u001b[43mkwds\u001b[49m\u001b[43m)\u001b[49m  \u001b[38;5;66;03m# pylint: disable=not-callable\u001b[39;00m\n\u001b[1;32m    943\u001b[0m \u001b[38;5;28;01melif\u001b[39;00m \u001b[38;5;28mself\u001b[39m\u001b[38;5;241m.\u001b[39m_stateful_fn \u001b[38;5;129;01mis\u001b[39;00m \u001b[38;5;129;01mnot\u001b[39;00m \u001b[38;5;28;01mNone\u001b[39;00m:\n\u001b[1;32m    944\u001b[0m   \u001b[38;5;66;03m# Release the lock early so that multiple threads can perform the call\u001b[39;00m\n\u001b[1;32m    945\u001b[0m   \u001b[38;5;66;03m# in parallel.\u001b[39;00m\n\u001b[1;32m    946\u001b[0m   \u001b[38;5;28mself\u001b[39m\u001b[38;5;241m.\u001b[39m_lock\u001b[38;5;241m.\u001b[39mrelease()\n",
      "File \u001b[0;32m~/anaconda3/envs/pclr/lib/python3.8/site-packages/tensorflow/python/eager/function.py:3130\u001b[0m, in \u001b[0;36mFunction.__call__\u001b[0;34m(self, *args, **kwargs)\u001b[0m\n\u001b[1;32m   3127\u001b[0m \u001b[38;5;28;01mwith\u001b[39;00m \u001b[38;5;28mself\u001b[39m\u001b[38;5;241m.\u001b[39m_lock:\n\u001b[1;32m   3128\u001b[0m   (graph_function,\n\u001b[1;32m   3129\u001b[0m    filtered_flat_args) \u001b[38;5;241m=\u001b[39m \u001b[38;5;28mself\u001b[39m\u001b[38;5;241m.\u001b[39m_maybe_define_function(args, kwargs)\n\u001b[0;32m-> 3130\u001b[0m \u001b[38;5;28;01mreturn\u001b[39;00m \u001b[43mgraph_function\u001b[49m\u001b[38;5;241;43m.\u001b[39;49m\u001b[43m_call_flat\u001b[49m\u001b[43m(\u001b[49m\n\u001b[1;32m   3131\u001b[0m \u001b[43m    \u001b[49m\u001b[43mfiltered_flat_args\u001b[49m\u001b[43m,\u001b[49m\u001b[43m \u001b[49m\u001b[43mcaptured_inputs\u001b[49m\u001b[38;5;241;43m=\u001b[39;49m\u001b[43mgraph_function\u001b[49m\u001b[38;5;241;43m.\u001b[39;49m\u001b[43mcaptured_inputs\u001b[49m\u001b[43m)\u001b[49m\n",
      "File \u001b[0;32m~/anaconda3/envs/pclr/lib/python3.8/site-packages/tensorflow/python/eager/function.py:1959\u001b[0m, in \u001b[0;36mConcreteFunction._call_flat\u001b[0;34m(self, args, captured_inputs, cancellation_manager)\u001b[0m\n\u001b[1;32m   1955\u001b[0m possible_gradient_type \u001b[38;5;241m=\u001b[39m gradients_util\u001b[38;5;241m.\u001b[39mPossibleTapeGradientTypes(args)\n\u001b[1;32m   1956\u001b[0m \u001b[38;5;28;01mif\u001b[39;00m (possible_gradient_type \u001b[38;5;241m==\u001b[39m gradients_util\u001b[38;5;241m.\u001b[39mPOSSIBLE_GRADIENT_TYPES_NONE\n\u001b[1;32m   1957\u001b[0m     \u001b[38;5;129;01mand\u001b[39;00m executing_eagerly):\n\u001b[1;32m   1958\u001b[0m   \u001b[38;5;66;03m# No tape is watching; skip to running the function.\u001b[39;00m\n\u001b[0;32m-> 1959\u001b[0m   \u001b[38;5;28;01mreturn\u001b[39;00m \u001b[38;5;28mself\u001b[39m\u001b[38;5;241m.\u001b[39m_build_call_outputs(\u001b[38;5;28;43mself\u001b[39;49m\u001b[38;5;241;43m.\u001b[39;49m\u001b[43m_inference_function\u001b[49m\u001b[38;5;241;43m.\u001b[39;49m\u001b[43mcall\u001b[49m\u001b[43m(\u001b[49m\n\u001b[1;32m   1960\u001b[0m \u001b[43m      \u001b[49m\u001b[43mctx\u001b[49m\u001b[43m,\u001b[49m\u001b[43m \u001b[49m\u001b[43margs\u001b[49m\u001b[43m,\u001b[49m\u001b[43m \u001b[49m\u001b[43mcancellation_manager\u001b[49m\u001b[38;5;241;43m=\u001b[39;49m\u001b[43mcancellation_manager\u001b[49m\u001b[43m)\u001b[49m)\n\u001b[1;32m   1961\u001b[0m forward_backward \u001b[38;5;241m=\u001b[39m \u001b[38;5;28mself\u001b[39m\u001b[38;5;241m.\u001b[39m_select_forward_and_backward_functions(\n\u001b[1;32m   1962\u001b[0m     args,\n\u001b[1;32m   1963\u001b[0m     possible_gradient_type,\n\u001b[1;32m   1964\u001b[0m     executing_eagerly)\n\u001b[1;32m   1965\u001b[0m forward_function, args_with_tangents \u001b[38;5;241m=\u001b[39m forward_backward\u001b[38;5;241m.\u001b[39mforward()\n",
      "File \u001b[0;32m~/anaconda3/envs/pclr/lib/python3.8/site-packages/tensorflow/python/eager/function.py:598\u001b[0m, in \u001b[0;36m_EagerDefinedFunction.call\u001b[0;34m(self, ctx, args, cancellation_manager)\u001b[0m\n\u001b[1;32m    596\u001b[0m \u001b[38;5;28;01mwith\u001b[39;00m _InterpolateFunctionError(\u001b[38;5;28mself\u001b[39m):\n\u001b[1;32m    597\u001b[0m   \u001b[38;5;28;01mif\u001b[39;00m cancellation_manager \u001b[38;5;129;01mis\u001b[39;00m \u001b[38;5;28;01mNone\u001b[39;00m:\n\u001b[0;32m--> 598\u001b[0m     outputs \u001b[38;5;241m=\u001b[39m \u001b[43mexecute\u001b[49m\u001b[38;5;241;43m.\u001b[39;49m\u001b[43mexecute\u001b[49m\u001b[43m(\u001b[49m\n\u001b[1;32m    599\u001b[0m \u001b[43m        \u001b[49m\u001b[38;5;28;43mstr\u001b[39;49m\u001b[43m(\u001b[49m\u001b[38;5;28;43mself\u001b[39;49m\u001b[38;5;241;43m.\u001b[39;49m\u001b[43msignature\u001b[49m\u001b[38;5;241;43m.\u001b[39;49m\u001b[43mname\u001b[49m\u001b[43m)\u001b[49m\u001b[43m,\u001b[49m\n\u001b[1;32m    600\u001b[0m \u001b[43m        \u001b[49m\u001b[43mnum_outputs\u001b[49m\u001b[38;5;241;43m=\u001b[39;49m\u001b[38;5;28;43mself\u001b[39;49m\u001b[38;5;241;43m.\u001b[39;49m\u001b[43m_num_outputs\u001b[49m\u001b[43m,\u001b[49m\n\u001b[1;32m    601\u001b[0m \u001b[43m        \u001b[49m\u001b[43minputs\u001b[49m\u001b[38;5;241;43m=\u001b[39;49m\u001b[43margs\u001b[49m\u001b[43m,\u001b[49m\n\u001b[1;32m    602\u001b[0m \u001b[43m        \u001b[49m\u001b[43mattrs\u001b[49m\u001b[38;5;241;43m=\u001b[39;49m\u001b[43mattrs\u001b[49m\u001b[43m,\u001b[49m\n\u001b[1;32m    603\u001b[0m \u001b[43m        \u001b[49m\u001b[43mctx\u001b[49m\u001b[38;5;241;43m=\u001b[39;49m\u001b[43mctx\u001b[49m\u001b[43m)\u001b[49m\n\u001b[1;32m    604\u001b[0m   \u001b[38;5;28;01melse\u001b[39;00m:\n\u001b[1;32m    605\u001b[0m     outputs \u001b[38;5;241m=\u001b[39m execute\u001b[38;5;241m.\u001b[39mexecute_with_cancellation(\n\u001b[1;32m    606\u001b[0m         \u001b[38;5;28mstr\u001b[39m(\u001b[38;5;28mself\u001b[39m\u001b[38;5;241m.\u001b[39msignature\u001b[38;5;241m.\u001b[39mname),\n\u001b[1;32m    607\u001b[0m         num_outputs\u001b[38;5;241m=\u001b[39m\u001b[38;5;28mself\u001b[39m\u001b[38;5;241m.\u001b[39m_num_outputs,\n\u001b[0;32m   (...)\u001b[0m\n\u001b[1;32m    610\u001b[0m         ctx\u001b[38;5;241m=\u001b[39mctx,\n\u001b[1;32m    611\u001b[0m         cancellation_manager\u001b[38;5;241m=\u001b[39mcancellation_manager)\n",
      "File \u001b[0;32m~/anaconda3/envs/pclr/lib/python3.8/site-packages/tensorflow/python/eager/execute.py:58\u001b[0m, in \u001b[0;36mquick_execute\u001b[0;34m(op_name, num_outputs, inputs, attrs, ctx, name)\u001b[0m\n\u001b[1;32m     56\u001b[0m \u001b[38;5;28;01mtry\u001b[39;00m:\n\u001b[1;32m     57\u001b[0m   ctx\u001b[38;5;241m.\u001b[39mensure_initialized()\n\u001b[0;32m---> 58\u001b[0m   tensors \u001b[38;5;241m=\u001b[39m \u001b[43mpywrap_tfe\u001b[49m\u001b[38;5;241;43m.\u001b[39;49m\u001b[43mTFE_Py_Execute\u001b[49m\u001b[43m(\u001b[49m\u001b[43mctx\u001b[49m\u001b[38;5;241;43m.\u001b[39;49m\u001b[43m_handle\u001b[49m\u001b[43m,\u001b[49m\u001b[43m \u001b[49m\u001b[43mdevice_name\u001b[49m\u001b[43m,\u001b[49m\u001b[43m \u001b[49m\u001b[43mop_name\u001b[49m\u001b[43m,\u001b[49m\n\u001b[1;32m     59\u001b[0m \u001b[43m                                      \u001b[49m\u001b[43minputs\u001b[49m\u001b[43m,\u001b[49m\u001b[43m \u001b[49m\u001b[43mattrs\u001b[49m\u001b[43m,\u001b[49m\u001b[43m \u001b[49m\u001b[43mnum_outputs\u001b[49m\u001b[43m)\u001b[49m\n\u001b[1;32m     60\u001b[0m \u001b[38;5;28;01mexcept\u001b[39;00m core\u001b[38;5;241m.\u001b[39m_NotOkStatusException \u001b[38;5;28;01mas\u001b[39;00m e:\n\u001b[1;32m     61\u001b[0m   \u001b[38;5;28;01mif\u001b[39;00m name \u001b[38;5;129;01mis\u001b[39;00m \u001b[38;5;129;01mnot\u001b[39;00m \u001b[38;5;28;01mNone\u001b[39;00m:\n",
      "\u001b[0;31mKeyboardInterrupt\u001b[0m: "
     ]
    }
   ],
   "source": [
    "# def mean_squared_error(y_true, y_pred): # 均方误差\n",
    "#     return K.mean(K.square(y_pred - y_true), axis=-1)\n",
    "length = 32\n",
    "epoch=500 # 前200个epoch不需要保存\n",
    "# epoch=300\n",
    "batch_size=256\n",
    "lr = 0.0001\n",
    "tp='mse'\n",
    "# tp='msle'\n",
    "opt = keras.optimizers.Adam(learning_rate=lr)\n",
    "# opt = tf.keras.optimizers.SGD(learning_rate=lr, momentum=0.9, nesterov=False, decay=0.1, name=\"SGD\")\n",
    "model.compile(optimizer=opt, loss=tp)\n",
    "\n",
    "model_name = '../zml_models/experiment/mse-adam-4445-320-160-32-4-{epoch:02d}-{val_loss:.2f}.h5'\n",
    "checkpoint = ModelCheckpoint(filepath=model_name, \n",
    "                             monitor='val_loss', \n",
    "                             verbose=1, \n",
    "                             save_best_only=True, \n",
    "                             mode='min', \n",
    "                             save_best_value=True,\n",
    "                             initial_value_threshold=30)\n",
    "callback_list = [checkpoint]\n",
    "\n",
    "h = model.fit(train_data,train_label, \n",
    "              validation_data=(test_data,test_label), \n",
    "              epochs=epoch, \n",
    "              batch_size=batch_size, \n",
    "              shuffle=True, \n",
    "#               callbacks=callback_list\n",
    "             )"
   ]
  },
  {
   "cell_type": "code",
   "execution_count": 15,
   "id": "17bbba09",
   "metadata": {},
   "outputs": [],
   "source": [
    "length = 32"
   ]
  },
  {
   "cell_type": "code",
   "execution_count": 17,
   "id": "b1efa09d",
   "metadata": {},
   "outputs": [],
   "source": [
    "# model.save('../zml_models/withoutnormal--Dense160-{length}-4&lr={lr}&epoch={epoch}&batchsize={batchsize}&RMSE.h5'\n",
    "#            .format(length=length,epoch=epoch+100,batchsize=batch_size,lr=lr))\n",
    "# 模型名称没说明loss的默认mse，"
   ]
  },
  {
   "cell_type": "code",
   "execution_count": 9,
   "id": "fb1922dc",
   "metadata": {},
   "outputs": [
    {
     "ename": "NameError",
     "evalue": "name 'h' is not defined",
     "output_type": "error",
     "traceback": [
      "\u001b[0;31m---------------------------------------------------------------------------\u001b[0m",
      "\u001b[0;31mNameError\u001b[0m                                 Traceback (most recent call last)",
      "Input \u001b[0;32mIn [9]\u001b[0m, in \u001b[0;36m<cell line: 2>\u001b[0;34m()\u001b[0m\n\u001b[1;32m      1\u001b[0m \u001b[38;5;66;03m# Plot accuracy and loss curve\u001b[39;00m\n\u001b[0;32m----> 2\u001b[0m history \u001b[38;5;241m=\u001b[39m \u001b[43mh\u001b[49m\u001b[38;5;241m.\u001b[39mhistory\n\u001b[1;32m      3\u001b[0m \u001b[38;5;28mprint\u001b[39m(history\u001b[38;5;241m.\u001b[39mkeys())\n\u001b[1;32m      4\u001b[0m epochs \u001b[38;5;241m=\u001b[39m \u001b[38;5;28mrange\u001b[39m(\u001b[38;5;28mlen\u001b[39m(history[\u001b[38;5;124m'\u001b[39m\u001b[38;5;124mloss\u001b[39m\u001b[38;5;124m'\u001b[39m]))\n",
      "\u001b[0;31mNameError\u001b[0m: name 'h' is not defined"
     ]
    }
   ],
   "source": [
    "# Plot accuracy and loss curve\n",
    "history = h.history\n",
    "print(history.keys())\n",
    "epochs = range(len(history['loss']))\n",
    "\n",
    "plt.figure(figsize=(20, 5))\n",
    "# ax = plt.subplot(1, 2, 1)\n",
    "# ax.set_title('Train and Valid Accuracy')\n",
    "# plt.plot(epochs, history['accuracy'], 'b', label='Train accuracy')\n",
    "# plt.plot(epochs, history['val_accuracy'], 'r', label='Valid accuracy')\n",
    "# plt.legend()\n",
    "\n",
    "ax = plt.subplot(1, 2, 2)\n",
    "ax.set_title('Train and Valid Loss')\n",
    "plt.plot(epochs, history['loss'], 'b', label='Train loss')\n",
    "plt.plot(epochs, history['val_loss'], 'r', label='Valid loss')\n",
    "plt.xlabel('epoch')\n",
    "plt.ylabel('total loss')\n",
    "plt.legend()"
   ]
  },
  {
   "cell_type": "markdown",
   "id": "f7038a81",
   "metadata": {},
   "source": [
    "# 评估"
   ]
  },
  {
   "cell_type": "code",
   "execution_count": 61,
   "id": "522bede2",
   "metadata": {},
   "outputs": [],
   "source": [
    "# file_name = 'withoutnormal--Dense160-32-4&lr=0.001&epoch=200&batchsize=256.h5'\n",
    "# m = load_model('../zml_models/'+file_name)\n",
    "m = load_model('/home/ubuntu/ml4h/ml4h/model_zoo/PCLR/zml/mse/mse-320-160-32-4-137-20.90.h5')\n",
    "# clear_output()"
   ]
  },
  {
   "cell_type": "code",
   "execution_count": 36,
   "id": "bad7ba91",
   "metadata": {},
   "outputs": [
    {
     "data": {
      "text/plain": [
       "1.0"
      ]
     },
     "execution_count": 36,
     "metadata": {},
     "output_type": "execute_result"
    }
   ],
   "source": [
    "# plt.plot(test_data[1])\n",
    "test_data.max()"
   ]
  },
  {
   "cell_type": "code",
   "execution_count": 4,
   "id": "681ce919",
   "metadata": {},
   "outputs": [
    {
     "data": {
      "text/plain": [
       "(1244, 4096)"
      ]
     },
     "execution_count": 4,
     "metadata": {},
     "output_type": "execute_result"
    }
   ],
   "source": [
    "test_data.shape"
   ]
  },
  {
   "cell_type": "code",
   "execution_count": 62,
   "id": "9442c938",
   "metadata": {},
   "outputs": [
    {
     "name": "stdout",
     "output_type": "stream",
     "text": [
      "(1659, 4096)\n",
      "[133.00801   75.03838  149.1911    76.842064]\n",
      "[101.76299667  53.97392273 104.5639493   55.54411634]\n",
      "(1659, 4)\n"
     ]
    }
   ],
   "source": [
    "test_data.shape\n",
    "print(test_data.shape)\n",
    "\n",
    "res = m.predict(test_data)\n",
    "print(res[0])\n",
    "print(test_label[0])\n",
    "print(res.shape)"
   ]
  },
  {
   "cell_type": "code",
   "execution_count": 63,
   "id": "5fba3ea2",
   "metadata": {},
   "outputs": [
    {
     "data": {
      "text/plain": [
       "<matplotlib.legend.Legend at 0x7f436fb0fd60>"
      ]
     },
     "execution_count": 63,
     "metadata": {},
     "output_type": "execute_result"
    },
    {
     "data": {
      "image/png": "[encoded data removed]",
      "text/plain": [
       "<Figure size 640x480 with 1 Axes>"
      ]
     },
     "metadata": {},
     "output_type": "display_data"
    }
   ],
   "source": [
    "# print(res)\n",
    "# r = innormal(res)\n",
    "# print(r)\n",
    "# print(test_label[0:256])\n",
    "differ = abs(res-test_label)\n",
    "plt.hist(differ,label=['sbp1','dbp1','sbp2','dbp2'])\n",
    "plt.xlabel('bias')\n",
    "plt.ylabel('amount')\n",
    "plt.legend()\n",
    "\n",
    "# clear_output()"
   ]
  },
  {
   "cell_type": "code",
   "execution_count": 12,
   "id": "ccd8c7f1",
   "metadata": {},
   "outputs": [
    {
     "name": "stdout",
     "output_type": "stream",
     "text": [
      "0.005549519722123364\n"
     ]
    },
    {
     "data": {
      "text/plain": [
       "[]"
      ]
     },
     "execution_count": 12,
     "metadata": {},
     "output_type": "execute_result"
    },
    {
     "data": {
      "image/png": "[encoded data removed]",
      "text/plain": [
       "<Figure size 640x480 with 1 Axes>"
      ]
     },
     "metadata": {},
     "output_type": "display_data"
    }
   ],
   "source": [
    "x = np.ndarray.flatten(differ)\n",
    "x.sort()\n",
    "# print(x)\n",
    "print(x[1])\n",
    "plt.hist(x,label=['sbp1','dbp1','sbp2','dbp2'])\n",
    "plt.plot()\n",
    "# x"
   ]
  },
  {
   "cell_type": "code",
   "execution_count": 13,
   "id": "966b191f",
   "metadata": {},
   "outputs": [
    {
     "data": {
      "text/plain": [
       "<matplotlib.legend.Legend at 0x7f61b0181220>"
      ]
     },
     "execution_count": 13,
     "metadata": {},
     "output_type": "execute_result"
    },
    {
     "data": {
      "image/png": "[encoded data removed]",
      "text/plain": [
       "<Figure size 640x480 with 1 Axes>"
      ]
     },
     "metadata": {},
     "output_type": "display_data"
    }
   ],
   "source": [
    "plt.plot(test_data[255],label='ECG data')\n",
    "plt.plot(test_label[255],label='BP label')\n",
    "plt.xlabel('time')\n",
    "plt.ylabel('amp')\n",
    "plt.legend() "
   ]
  },
  {
   "cell_type": "code",
   "execution_count": 51,
   "id": "63ba846e",
   "metadata": {},
   "outputs": [],
   "source": [
    "# 数数\n",
    "def BHS_standard(predict, test):\n",
    "    total = len(predict)\n",
    "    mm5 = np.sum(np.abs(predict-test)<=5.0)\n",
    "    mm10 = np.sum(np.abs(predict-test)<=10.0)\n",
    "    mm15 = np.sum(np.abs(predict-test)<=15.0)\n",
    "    return total, mm5, mm10, mm15"
   ]
  },
  {
   "cell_type": "code",
   "execution_count": 52,
   "id": "c81973a6",
   "metadata": {},
   "outputs": [],
   "source": [
    "# res=m.predict(test_data)"
   ]
  },
  {
   "cell_type": "code",
   "execution_count": 53,
   "id": "859e6547",
   "metadata": {},
   "outputs": [],
   "source": [
    "t_data = tf.transpose(test_label,(1,0))\n",
    "predict_data = tf.transpose(res,(1,0))\n",
    "predict_data.dtype # 检查数据类型，发现predict是float32，label是float64\n",
    "predict_data = tf.cast(predict_data,dtype='float64') \n",
    "\n",
    "total, mm5, mm10, mm15 = BHS_standard(t_data[0],predict_data[0])"
   ]
  },
  {
   "cell_type": "code",
   "execution_count": 54,
   "id": "1eca8d7e",
   "metadata": {},
   "outputs": [
    {
     "name": "stdout",
     "output_type": "stream",
     "text": [
      "\n",
      "-------------BHS standard------------\n",
      "<5mmHg        <10mmHg        <15mmHg        total\n",
      "550            943           1226          1659\n",
      "33.153%        56.841%       73.900%         1659\n"
     ]
    }
   ],
   "source": [
    "print()\n",
    "print('-------------BHS standard------------')\n",
    "print('<5mmHg        <10mmHg        <15mmHg        total')\n",
    "print('%d            %d           %d          %d' % (mm5,mm10,mm15,total))\n",
    "print('%.3f%s        %.3f%s       %.3f%s         %d' % (mm5/total*100, '%',mm10/total*100, '%',mm15/total*100, '%', total))"
   ]
  },
  {
   "cell_type": "code",
   "execution_count": null,
   "id": "57a54748",
   "metadata": {},
   "outputs": [],
   "source": []
  }
 ],
 "metadata": {
  "kernelspec": {
   "display_name": "Python 3 (ipykernel)",
   "language": "python",
   "name": "python3"
  },
  "language_info": {
   "codemirror_mode": {
    "name": "ipython",
    "version": 3
   },
   "file_extension": ".py",
   "mimetype": "text/x-python",
   "name": "python",
   "nbconvert_exporter": "python",
   "pygments_lexer": "ipython3",
   "version": "3.8.13"
  }
 },
 "nbformat": 4,
 "nbformat_minor": 5
}
