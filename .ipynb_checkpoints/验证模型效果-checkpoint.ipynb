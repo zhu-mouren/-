{
 "cells": [
  {
   "cell_type": "code",
   "execution_count": 5,
   "id": "63bcbe67",
   "metadata": {},
   "outputs": [],
   "source": [
    "import time\n",
    "import glob\n",
    "import os\n",
    "\n",
    "import numpy as np\n",
    "import matplotlib.pyplot as plt\n",
    "import scipy.signal\n",
    "import tensorflow as tf\n",
    "from tensorflow import keras\n",
    "from keras.models import Sequential\n",
    "from keras.models import load_model\n",
    "from keras.callbacks import ModelCheckpoint\n",
    "\n",
    "\n",
    "import keras.backend as K\n",
    "from easydl import clear_output\n",
    "from sklearn.utils import shuffle\n",
    "\n",
    "# from get_representations import *\n"
   ]
  },
  {
   "cell_type": "code",
   "execution_count": 6,
   "id": "3197e95d",
   "metadata": {},
   "outputs": [],
   "source": [
    "# 验证实验结果\n",
    "m = load_model('/data/drink/e_result/3456/val=12&test=34&320-160-32-2-001-145.22.h5')\n",
    "clear_output()"
   ]
  },
  {
   "cell_type": "code",
   "execution_count": 7,
   "id": "08d98c95",
   "metadata": {},
   "outputs": [],
   "source": [
    "# 数据读取\n",
    "base_path = '/data/drink/experiment/3456'\n",
    "ECG_test = np.load(os.path.join(base_path,'ECG_test.npy'))\n",
    "LABEL_test = np.load(os.path.join(base_path,'LABEL_test.npy'))"
   ]
  },
  {
   "cell_type": "code",
   "execution_count": 9,
   "id": "990bc0c1",
   "metadata": {},
   "outputs": [
    {
     "name": "stdout",
     "output_type": "stream",
     "text": [
      "[136.07944  80.132  ]\n",
      "(5207, 2)\n"
     ]
    }
   ],
   "source": [
    "res = m.predict(ECG_test)\n",
    "print(res[0])\n",
    "# print(test_label[0])\n",
    "print(res.shape)"
   ]
  },
  {
   "cell_type": "code",
   "execution_count": 11,
   "id": "2d586287",
   "metadata": {},
   "outputs": [
    {
     "data": {
      "image/png": "[encoded data removed]",
      "text/plain": [
       "<Figure size 640x480 with 1 Axes>"
      ]
     },
     "metadata": {},
     "output_type": "display_data"
    }
   ],
   "source": [
    "differ = abs(res-LABEL_test)\n",
    "plt.hist(differ,label=['sbp1','dbp1','sbp2','dbp2'])\n",
    "plt.xlabel('bias')\n",
    "plt.ylabel('amount')\n",
    "plt.legend()\n",
    "\n",
    "clear_output()"
   ]
  },
  {
   "cell_type": "code",
   "execution_count": 12,
   "id": "19c336d1",
   "metadata": {},
   "outputs": [],
   "source": [
    "# 数数\n",
    "def BHS_standard(predict, test):\n",
    "    total = len(predict)\n",
    "    mm5 = np.sum(np.abs(predict-test)<=5.0)\n",
    "    mm10 = np.sum(np.abs(predict-test)<=10.0)\n",
    "    mm15 = np.sum(np.abs(predict-test)<=15.0)\n",
    "    return total, mm5, mm10, mm15\n"
   ]
  },
  {
   "cell_type": "code",
   "execution_count": 15,
   "id": "ce2c0710",
   "metadata": {},
   "outputs": [],
   "source": [
    "t_data = tf.transpose(LABEL_test,(1,0))\n",
    "predict_data = tf.transpose(res,(1,0))\n",
    "predict_data.dtype # 检查数据类型，发现predict是float32，label是float64\n",
    "predict_data = tf.cast(predict_data,dtype='float64') \n",
    "\n",
    "total, mm5, mm10, mm15 = BHS_standard(t_data[0],predict_data[0])"
   ]
  },
  {
   "cell_type": "code",
   "execution_count": 16,
   "id": "b2f7887f",
   "metadata": {},
   "outputs": [
    {
     "name": "stdout",
     "output_type": "stream",
     "text": [
      "\n",
      "-------------BHS standard------------\n",
      "<5mmHg        <10mmHg        <15mmHg        total\n",
      "699            1472           2244          5207\n",
      "13.424%        28.270%       43.096%         5207\n"
     ]
    }
   ],
   "source": [
    "print()\n",
    "print('-------------BHS standard------------')\n",
    "print('<5mmHg        <10mmHg        <15mmHg        total')\n",
    "print('%d            %d           %d          %d' % (mm5,mm10,mm15,total))\n",
    "print('%.3f%s        %.3f%s       %.3f%s         %d' % (mm5/total*100, '%',mm10/total*100, '%',mm15/total*100, '%', total))"
   ]
  },
  {
   "cell_type": "code",
   "execution_count": null,
   "id": "391669be",
   "metadata": {},
   "outputs": [],
   "source": []
  }
 ],
 "metadata": {
  "kernelspec": {
   "display_name": "Python 3 (ipykernel)",
   "language": "python",
   "name": "python3"
  },
  "language_info": {
   "codemirror_mode": {
    "name": "ipython",
    "version": 3
   },
   "file_extension": ".py",
   "mimetype": "text/x-python",
   "name": "python",
   "nbconvert_exporter": "python",
   "pygments_lexer": "ipython3",
   "version": "3.8.13"
  }
 },
 "nbformat": 4,
 "nbformat_minor": 5
}
